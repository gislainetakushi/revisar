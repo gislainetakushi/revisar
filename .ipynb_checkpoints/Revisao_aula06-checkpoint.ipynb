{
 "cells": [
  {
   "cell_type": "code",
   "execution_count": 8,
   "id": "796e82f9-4c0e-4367-8eb5-df4f7255de20",
   "metadata": {},
   "outputs": [
    {
     "name": "stdin",
     "output_type": "stream",
     "text": [
      "Digite seu nome:  Gislaine \n",
      "Digite sua idade:  21\n"
     ]
    },
    {
     "name": "stdout",
     "output_type": "stream",
     "text": [
      "Gislaine  tem 21 anos!\n"
     ]
    }
   ],
   "source": [
    "#Faça um programa para ler e escrever na tela o seu nome e a sua idade.\n",
    "nome = str(input(\"Digite seu nome: \"))\n",
    "idade = int(input(\"Digite sua idade: \"))\n",
    "print(f\"{nome} tem {idade} anos!\")"
   ]
  },
  {
   "cell_type": "code",
   "execution_count": 9,
   "id": "ec7b7bd8-7401-4ce5-a783-217c33ae16c7",
   "metadata": {},
   "outputs": [
    {
     "name": "stdin",
     "output_type": "stream",
     "text": [
      "Digite o ano de nascimento:  2003\n",
      "Digite o ano atual:  2024\n"
     ]
    },
    {
     "name": "stdout",
     "output_type": "stream",
     "text": [
      "Essa pessoa tem 21 anos, 252 meses, 1092 semans e 7665 dias!\n"
     ]
    }
   ],
   "source": [
    "#Faça um algoritmo que receba o ano de nascimento de uma pessoa e o ano atual e mostre: \n",
    "#A idade dessa pessoa em anos; A idade dessa pessoa em meses; A idade dessa pessoa em dias; A idade dessa pessoa em semanas.\n",
    "ano_nasc = int(input(\"Digite o ano de nascimento: \"))\n",
    "ano_atual = int(input(\"Digite o ano atual: \"))\n",
    "idade = ano_atual - ano_nasc\n",
    "meses = idade * 12\n",
    "dias = idade * 365\n",
    "semana = idade * 52\n",
    "print(f\"Essa pessoa tem {idade} anos, {meses} meses, {semana} semans e {dias} dias!\")\n"
   ]
  },
  {
   "cell_type": "code",
   "execution_count": 11,
   "id": "2c432396-e9d5-4872-9707-5fbd623dcb13",
   "metadata": {},
   "outputs": [
    {
     "name": "stdin",
     "output_type": "stream",
     "text": [
      "Digite o salario:  1800\n"
     ]
    },
    {
     "name": "stdout",
     "output_type": "stream",
     "text": [
      "O novo salário será 2250.00\n"
     ]
    }
   ],
   "source": [
    "# Faça um algoritmo que receba o salário de um funcionário, calcule e mostre o novo salário, sabendo-se que este sofreu um aumento de 25%.\n",
    "salario = float(input(\"Digite o salario: \"))\n",
    "novo_sal = salario + (salario *25)/100\n",
    "print(f'O novo salário será {novo_sal:.2f}')"
   ]
  },
  {
   "cell_type": "code",
   "execution_count": 15,
   "id": "2c1f6d0d-3a23-4da9-b9da-7291e3bca1b9",
   "metadata": {},
   "outputs": [
    {
     "name": "stdin",
     "output_type": "stream",
     "text": [
      "Entre com o valor do raio:  25\n"
     ]
    },
    {
     "name": "stdout",
     "output_type": "stream",
     "text": [
      "A área do circulo de raio25.0 é 1963.50\n"
     ]
    }
   ],
   "source": [
    "#Faça um algoritmo que calcule e mostre a área de um círculo. Sabe-se que Area= π * R2\n",
    "# π = 3,115\n",
    "from math import pi, pow\n",
    "raio = float(input(\"Entre com o valor do raio: \"))\n",
    "area = pi * pow(raio,2)\n",
    "print(f'A área do circulo de raio{raio} é {area:.2f}')"
   ]
  },
  {
   "cell_type": "code",
   "execution_count": 16,
   "id": "666325f7-6f73-4f30-9a51-47ac256ebfb1",
   "metadata": {},
   "outputs": [
    {
     "name": "stdin",
     "output_type": "stream",
     "text": [
      "Digite a altura do degrau:  15\n",
      "Digite a altura do pé direito:  37\n"
     ]
    },
    {
     "name": "stdout",
     "output_type": "stream",
     "text": [
      "Serão necessários 247 degraus!\n"
     ]
    }
   ],
   "source": [
    "#Cada degrau de uma escada tem Xcm de altura. Faça um algoritmo que receba a altura de cada degrau em cm e a altura que o usuário deseja alcançar subindo a escada (em metros). Faça as conversões, calcule e mostre quantos degraus o usuário deverá subir para atingir seu objetivo.\n",
    "#Obs: não se preocupe com a altura do usuário!\n",
    "from math import ceil \n",
    "degrau = float(input(\"Digite a altura do degrau: \"))\n",
    "pe_direito = float(input(\"Digite a altura do pé direito: \"))\n",
    "pe_direito = pe_direito * 100\n",
    "qtd_degraus = ceil(pe_direito / degrau )\n",
    "print(f\"Serão necessários {qtd_degraus} degraus!\")"
   ]
  },
  {
   "cell_type": "code",
   "execution_count": null,
   "id": "3a4f5191-34ed-491d-b86d-67b6fa625468",
   "metadata": {},
   "outputs": [],
   "source": []
  }
 ],
 "metadata": {
  "kernelspec": {
   "display_name": "Python 3 (ipykernel)",
   "language": "python",
   "name": "python3"
  },
  "language_info": {
   "codemirror_mode": {
    "name": "ipython",
    "version": 3
   },
   "file_extension": ".py",
   "mimetype": "text/x-python",
   "name": "python",
   "nbconvert_exporter": "python",
   "pygments_lexer": "ipython3",
   "version": "3.12.4"
  }
 },
 "nbformat": 4,
 "nbformat_minor": 5
}
