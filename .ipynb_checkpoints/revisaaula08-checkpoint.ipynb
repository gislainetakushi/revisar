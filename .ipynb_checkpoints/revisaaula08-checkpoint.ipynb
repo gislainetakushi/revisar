{
 "cells": [
  {
   "cell_type": "code",
   "execution_count": 1,
   "id": "98c079de-ce01-4f5e-8666-bd4621052796",
   "metadata": {},
   "outputs": [
    {
     "name": "stdin",
     "output_type": "stream",
     "text": [
      "Digite um numero inteiro positivo:  5\n"
     ]
    },
    {
     "name": "stdout",
     "output_type": "stream",
     "text": [
      "O valor da soma é 62\n"
     ]
    }
   ],
   "source": [
    "#Faça um algoritmo que leia um valor N inteiro e positivo, calcule e mostre o valor E, conforme a fórmula a seguir.\n",
    "#E = (2 ** 1) + (2 ** 2) + (2 ** 3) + ... + (2 ** N)\n",
    "#Resolva com for e depois while.\n",
    "\n",
    "n= int(input(\"Digite um numero inteiro positivo: \"))\n",
    "e = 0\n",
    "for i in range(1,n+1):\n",
    "    e = e+(2**i)\n",
    "print(f\"O valor da soma é {e}\")\n"
   ]
  },
  {
   "cell_type": "code",
   "execution_count": 2,
   "id": "87a5f207-9d8a-47df-b13d-e9d53d3587a2",
   "metadata": {},
   "outputs": [
    {
     "name": "stdin",
     "output_type": "stream",
     "text": [
      "Digite um numero inteiro positivo:  5\n"
     ]
    },
    {
     "name": "stdout",
     "output_type": "stream",
     "text": [
      "O valor de e é: 62\n"
     ]
    }
   ],
   "source": [
    "n = int(input(\"Digite um numero inteiro positivo: \"))\n",
    "e =0\n",
    "i = 1\n",
    "while i<=n:\n",
    "    e = e+(2**i)\n",
    "    i= i+1\n",
    "print(f\"O valor de e é: {e}\")    "
   ]
  },
  {
   "cell_type": "code",
   "execution_count": 6,
   "id": "33ee145e-fe31-4516-9071-e6fa5385b7b3",
   "metadata": {},
   "outputs": [
    {
     "name": "stdout",
     "output_type": "stream",
     "text": [
      "1\n",
      "2\n",
      "3\n",
      "4\n",
      "5\n",
      "6\n",
      "7\n",
      "8\n",
      "9\n",
      "10\n"
     ]
    }
   ],
   "source": [
    "#Contar de 1 a 10:\n",
    "#Escreva um programa que imprima os números de 1 a 10, um por um, usando o laço for.\n",
    "for i in range (1,11):\n",
    "    print(i)\n"
   ]
  },
  {
   "cell_type": "code",
   "execution_count": 9,
   "id": "3a740b05-c6eb-4547-90f0-adfa0c726139",
   "metadata": {},
   "outputs": [
    {
     "name": "stdin",
     "output_type": "stream",
     "text": [
      "Digite um numero :  5\n"
     ]
    },
    {
     "name": "stdout",
     "output_type": "stream",
     "text": [
      "A soma de todos os números de 1 ate 5 é 15\n"
     ]
    }
   ],
   "source": [
    "#Soma de números de 1 a N:\n",
    "#Solicite ao usuário um número \n",
    "#𝑁 e calcule a soma de todos os números inteiros de 1 até \n",
    "#𝑁\n",
    "#N usando o laço for.\n",
    "soma=0\n",
    "n = int(input(\"Digite um numero : \"))\n",
    "for i in range(1,n+1):\n",
    "    soma += i\n",
    "print(f\"A soma de todos os números de 1 ate {n} é {soma}\")"
   ]
  },
  {
   "cell_type": "code",
   "execution_count": 11,
   "id": "baef1dac-d52b-4842-8b8e-1e740440f89d",
   "metadata": {},
   "outputs": [
    {
     "name": "stdin",
     "output_type": "stream",
     "text": [
      "Digite um numero:  5\n"
     ]
    },
    {
     "name": "stdout",
     "output_type": "stream",
     "text": [
      "5 x 1 = 5 \n",
      "5 x 2 = 10 \n",
      "5 x 3 = 15 \n",
      "5 x 4 = 20 \n",
      "5 x 5 = 25 \n",
      "5 x 6 = 30 \n",
      "5 x 7 = 35 \n",
      "5 x 8 = 40 \n",
      "5 x 9 = 45 \n",
      "5 x 10 = 50 \n"
     ]
    }
   ],
   "source": [
    "#Solicite ao usuário um número e imprima sua tabuada (de 1 a 10), utilizando o laço for. Exemplo para o número 5:\n",
    "num =int(input (\"Digite um numero: \"))\n",
    "for i in range(1,11):\n",
    "    print(f\"{num} x {i} = {num * i} \")\n",
    "                "
   ]
  },
  {
   "cell_type": "code",
   "execution_count": 14,
   "id": "af6a59c6-9971-465b-b462-02ac6037b1c2",
   "metadata": {},
   "outputs": [
    {
     "name": "stdin",
     "output_type": "stream",
     "text": [
      "Digite um número:  5\n"
     ]
    },
    {
     "name": "stdout",
     "output_type": "stream",
     "text": [
      "0 1 1 2 3 "
     ]
    }
   ],
   "source": [
    "#Solicite ao usuário um número 𝑁 e imprima os N primeiros termos da sequência de Fibonacci. Exemplo de sequência: 0, 1, 1, 2, 3, 5, 8, ...\n",
    "n = int(input(\"Digite um número: \"))\n",
    "a, b = 0, 1\n",
    "for i in range(n):\n",
    "    print(a, end=\" \")  \n",
    "    a, b = b, a + b  \n"
   ]
  },
  {
   "cell_type": "code",
   "execution_count": 15,
   "id": "0ea0a527-f7fa-40b2-b5ed-e09a24be3292",
   "metadata": {},
   "outputs": [
    {
     "name": "stdin",
     "output_type": "stream",
     "text": [
      "Digite um número:  5\n"
     ]
    },
    {
     "name": "stdout",
     "output_type": "stream",
     "text": [
      "1\n",
      "3\n",
      "5\n"
     ]
    }
   ],
   "source": [
    "#Solicite um número 𝑁 e imprima todos os números ímpares de 1 até N usando o laço\n",
    "n = int(input(\"Digite um número: \"))\n",
    "for i in range(1,n+1,2):\n",
    "    print(i)"
   ]
  },
  {
   "cell_type": "code",
   "execution_count": 21,
   "id": "bbffd8b5-9167-450d-b2eb-62a373f8b51d",
   "metadata": {},
   "outputs": [
    {
     "name": "stdout",
     "output_type": "stream",
     "text": [
      "10\n",
      "9\n",
      "8\n",
      "7\n",
      "6\n",
      "5\n",
      "4\n",
      "3\n",
      "2\n",
      "1\n",
      "0\n"
     ]
    }
   ],
   "source": [
    "#Crie um programa que faça uma contagem regressiva de 10 até 1 utilizando o laço while e imprima cada número.\n",
    "contador = 11\n",
    "while contador >=1:\n",
    "    contador = contador -1\n",
    "    print(contador)"
   ]
  },
  {
   "cell_type": "code",
   "execution_count": 25,
   "id": "4d3c4618-3c98-4024-a368-7c5d59d46224",
   "metadata": {},
   "outputs": [
    {
     "name": "stdin",
     "output_type": "stream",
     "text": [
      "Digite um numero:  5\n",
      "Digite o numero para sair:  0\n"
     ]
    },
    {
     "name": "stdout",
     "output_type": "stream",
     "text": [
      "A soma de todos os numero é5\n"
     ]
    }
   ],
   "source": [
    "#Solicite ao usuário números inteiros até que o número 0 seja digitado. O programa deve somar todos os números digitados e imprimir o resultado. \n",
    "#(Dica: use while para continuar pedindo os números enquanto o número 0 não for digitado).\n",
    "soma = 0\n",
    "num= int(input(\"Digite um numero: \"))\n",
    "while num!=0:\n",
    "    soma= soma + num \n",
    "    num = int(input(\"Digite o numero para sair: \"))\n",
    "print (f\"A soma de todos os numero é{soma}\")"
   ]
  },
  {
   "cell_type": "code",
   "execution_count": 26,
   "id": "15bb4f8d-36a0-470e-afd1-29d1fbbc8b3b",
   "metadata": {},
   "outputs": [
    {
     "name": "stdin",
     "output_type": "stream",
     "text": [
      "Digite um número (0 para finalizar):  5\n",
      "Digite um número (0 para finalizar):  1\n",
      "Digite um número (0 para finalizar):  25\n",
      "Digite um número (0 para finalizar):  43\n",
      "Digite um número (0 para finalizar):  0\n"
     ]
    },
    {
     "name": "stdout",
     "output_type": "stream",
     "text": [
      "A soma de todos os números digitados é: 74\n"
     ]
    }
   ],
   "source": [
    "# Inicializar a variável soma com 0\n",
    "soma = 0\n",
    "\n",
    "# Laço while para continuar pedindo números até que o número 0 seja digitado\n",
    "while True:\n",
    "    # Solicitar ao usuário um número\n",
    "    numero = int(input(\"Digite um número (0 para finalizar): \"))\n",
    "    \n",
    "    # Verificar se o número digitado é 0, caso seja, sai do laço\n",
    "    if numero == 0:\n",
    "        break\n",
    "    \n",
    "    # Somar o número à variável soma\n",
    "    soma += numero\n",
    "\n",
    "# Imprimir o resultado final da soma\n",
    "print(\"A soma de todos os números digitados é:\", soma)\n"
   ]
  },
  {
   "cell_type": "code",
   "execution_count": null,
   "id": "d232c8ee-97e2-4f72-a0fa-fe7840faa2e8",
   "metadata": {},
   "outputs": [],
   "source": []
  }
 ],
 "metadata": {
  "kernelspec": {
   "display_name": "Python 3 (ipykernel)",
   "language": "python",
   "name": "python3"
  },
  "language_info": {
   "codemirror_mode": {
    "name": "ipython",
    "version": 3
   },
   "file_extension": ".py",
   "mimetype": "text/x-python",
   "name": "python",
   "nbconvert_exporter": "python",
   "pygments_lexer": "ipython3",
   "version": "3.12.4"
  }
 },
 "nbformat": 4,
 "nbformat_minor": 5
}
