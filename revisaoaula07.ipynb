{
 "cells": [
  {
   "cell_type": "code",
   "execution_count": 2,
   "id": "59443737-79a0-42f5-be73-c96a82ff4e17",
   "metadata": {},
   "outputs": [
    {
     "name": "stdin",
     "output_type": "stream",
     "text": [
      "Digite um numero:  15\n",
      "Digite o segundo numero:  25\n"
     ]
    },
    {
     "name": "stdout",
     "output_type": "stream",
     "text": [
      "O número 25.0 é o maior\n"
     ]
    }
   ],
   "source": [
    "#Faça um Programa que peça dois números e imprima o maior deles.\n",
    "num1 = float(input(\"Digite um numero: \"))\n",
    "num2 = float(input(\"Digite o segundo numero: \"))\n",
    "if num1 > num2:\n",
    "    print(f\"O número {num1} é o maior\")\n",
    "elif num1 < num2:\n",
    "    print(f\"O número {num2} é o maior\")\n",
    "else:\n",
    "    print(\"Os números são iguais\")"
   ]
  },
  {
   "cell_type": "code",
   "execution_count": 9,
   "id": "0ee9c3cb-4b22-4188-833e-8c962737eabf",
   "metadata": {},
   "outputs": [
    {
     "name": "stdin",
     "output_type": "stream",
     "text": [
      "Digite uma letra:  A\n"
     ]
    },
    {
     "name": "stdout",
     "output_type": "stream",
     "text": [
      "A é uma vogal!\n"
     ]
    }
   ],
   "source": [
    "#Faça um Programa que verifique se uma letra digitada é vogal ou consoante.\n",
    "letra = input(\"Digite uma letra: \").upper()\n",
    "\n",
    "if letra in \"AEIOU\":\n",
    "    print(f\"{letra} é uma vogal!\")\n",
    "else:\n",
    "    print(f\"{letra} é uma consoante\")"
   ]
  },
  {
   "cell_type": "code",
   "execution_count": 10,
   "id": "d4f22dad-bd9d-4781-b09b-97530728661d",
   "metadata": {},
   "outputs": [
    {
     "name": "stdin",
     "output_type": "stream",
     "text": [
      "Digite a idade:  15\n"
     ]
    },
    {
     "name": "stdout",
     "output_type": "stream",
     "text": [
      "Categoria adolescente\n"
     ]
    }
   ],
   "source": [
    "#Faça um programa que receba a idade de um nadador e mostre a sua categoria usando as regras a seguir:\n",
    "#Categoria_______Idade\n",
    "#Infantil___________5 a 7\n",
    "#Juvenil___________8 a 10\n",
    "#Adolescente_____11 a 15\n",
    "#Adulto___________16 a 30\n",
    "#Sênior____________Acima de 30\n",
    "idade = int(input(\"Digite a idade: \"))\n",
    "if idade < 5:\n",
    "    print(\"Não há categoria\")\n",
    "elif idade <8:\n",
    "    print(\"Categoria infantil\")\n",
    "elif idade < 11:\n",
    "    print(\"Categoria juvenil\")\n",
    "elif idade < 16:\n",
    "    print(\"Categoria adolescente\")\n",
    "elif idade < 31:\n",
    "    print(\" Categoria adulto\")\n",
    "else:\n",
    "    print(\"Categoria senior\")\n",
    "    \n"
   ]
  },
  {
   "cell_type": "code",
   "execution_count": 11,
   "id": "2126916f-84ee-4432-87cd-07a9029d3f35",
   "metadata": {},
   "outputs": [
    {
     "name": "stdin",
     "output_type": "stream",
     "text": [
      "Digite o lado A:  4\n",
      "Digite o lado B:  4\n",
      "Digite o lado C:  4\n"
     ]
    },
    {
     "name": "stdout",
     "output_type": "stream",
     "text": [
      "Triângulo Equilátero\n"
     ]
    }
   ],
   "source": [
    "#Faça um Programa que peça os 3 lados de um triângulo. O programa deverá informar se os valores podem ser um triângulo. Indique, caso os lados formem um triângulo, se o mesmo é: equilátero, isósceles ou escaleno. Dicas:\n",
    "#Três lados formam um triângulo quando a soma de quaisquer dois lados for maior que o terceiro;\n",
    "#Triângulo Equilátero: três lados iguais;\n",
    "#Triângulo Isósceles: quaisquer dois lados iguais;\n",
    "#Triângulo Escaleno: três lados diferentes;\n",
    "A = float(input(\"Digite o lado A: \")) \n",
    "B = float(input(\"Digite o lado B: \")) \n",
    "C = float(input(\"Digite o lado C: \")) \n",
    "if((A+B)>C) and ((A+C)>B) and ((B+C)>A):\n",
    "    #triângulo equilátero\n",
    "    if(A == B) and (B == C):\n",
    "        print(\"Triângulo Equilátero\")\n",
    "    else:\n",
    "        #Triângulo isósceles\n",
    "        if(A == B) or (B == C) or (A == C):\n",
    "            print(\"Triângulo Isósceles\")\n",
    "        else:\n",
    "            #triângulo escaleno\n",
    "            print( \"Triângulo Escaleno\")\n",
    "        \n",
    "else:\n",
    "    print(\"Os lados não formam um triângulo\")\n",
    "    \n",
    "          "
   ]
  },
  {
   "cell_type": "code",
   "execution_count": 13,
   "id": "d953bc16-3574-47ab-afd8-3be13af0b53a",
   "metadata": {},
   "outputs": [
    {
     "name": "stdin",
     "output_type": "stream",
     "text": [
      "Digite o lado A:  15\n",
      "Digite o lado B:  12\n",
      "Digite o lado C:  3\n"
     ]
    },
    {
     "name": "stdout",
     "output_type": "stream",
     "text": [
      "Não existem raízes no conjunto dos números reais!\n"
     ]
    }
   ],
   "source": [
    "#Faça um programa que calcule as raízes de uma equação do segundo grau, na forma ax2 + bx + c. O programa deverá pedir os valores de a, b e c e fazer as consistências, informando ao usuário nas seguintes situações:\n",
    "#Se o usuário informar o valor de a igual a zero, a equação não é do segundo grau e o programa não deve fazer pedir os demais valores, sendo encerrado;\n",
    "#Se o delta calculado for negativo, a equação não possui raízes reais. Informe ao usuário e encerre o programa;\n",
    "#Se o delta calculado for igual a zero a equação possui apenas uma raiz real; informe-a ao usuário;\n",
    "#Se o delta for positivo, a equação possui duas raiz reais; informe-as ao usuário;\n",
    "a = float(input(\"Digite o lado A: \")) \n",
    "b = float(input(\"Digite o lado B: \")) \n",
    "c = float(input(\"Digite o lado C: \")) \n",
    "delta = pow(b, 2) - (4 * a * c)\n",
    "if delta > 0:\n",
    "    #calcular 2 raízes\n",
    "    x1 = ((-1 * b) + sqrt(delta)) / (2 * a)\n",
    "    x2 = ((-1 * b) - sqrt(delta)) / (2 * a)\n",
    "    print(\"As raízes são: \")\n",
    "    ptint (\"x1 = \",x1)\n",
    "    print (\"x2 = \",x2) \n",
    "elif delta == 0:\n",
    "    #calcular 1 raiz\n",
    "    x1 = ((-1 * b) + sqrt(delta)) / (2 * a)\n",
    "    print(\"A raiz é: \")\n",
    "    print (\"x1= \",x1)\n",
    "\n",
    "else:\n",
    "    # Não existem raízes no conjunto dos números reais\n",
    "    print(\"Não existem raízes no conjunto dos números reais!\")"
   ]
  },
  {
   "cell_type": "code",
   "execution_count": 16,
   "id": "f46bdd45-55f8-4562-8321-3fc8362530e0",
   "metadata": {},
   "outputs": [
    {
     "name": "stdin",
     "output_type": "stream",
     "text": [
      "Informe sua idade:  21\n"
     ]
    },
    {
     "name": "stdout",
     "output_type": "stream",
     "text": [
      "Você é de maior\n"
     ]
    }
   ],
   "source": [
    "#Crie um programa que receba a idade do usuário e informe se ele é maior de idade (18 anos ou mais) ou menor de idade (menos de 18 anos).\n",
    "idade = int(input(\"Informe sua idade: \"))\n",
    "if idade <18:\n",
    "    print(\"Você é menor de idade\")\n",
    "else:\n",
    "    print(\"Você é de maior\")"
   ]
  },
  {
   "cell_type": "code",
   "execution_count": 17,
   "id": "689b34a4-1b14-4e04-9a58-337efa8cba27",
   "metadata": {},
   "outputs": [
    {
     "name": "stdin",
     "output_type": "stream",
     "text": [
      "Digite um numero:  5\n"
     ]
    },
    {
     "name": "stdout",
     "output_type": "stream",
     "text": [
      "Esse numero é impar\n"
     ]
    }
   ],
   "source": [
    "#Escreva um programa que receba um número do usuário e informe se ele é par ou ímpar.\n",
    "num = int(input(\"Digite um numero: \"))\n",
    "if num %2 == 0:\n",
    "    print(\"Esse numero é par\")\n",
    "else:\n",
    "    print(\"Esse numero é impar\")"
   ]
  },
  {
   "cell_type": "code",
   "execution_count": null,
   "id": "d77a22e1-a3e1-4394-945b-08be666be7e0",
   "metadata": {},
   "outputs": [],
   "source": []
  }
 ],
 "metadata": {
  "kernelspec": {
   "display_name": "Python 3 (ipykernel)",
   "language": "python",
   "name": "python3"
  },
  "language_info": {
   "codemirror_mode": {
    "name": "ipython",
    "version": 3
   },
   "file_extension": ".py",
   "mimetype": "text/x-python",
   "name": "python",
   "nbconvert_exporter": "python",
   "pygments_lexer": "ipython3",
   "version": "3.12.4"
  }
 },
 "nbformat": 4,
 "nbformat_minor": 5
}
